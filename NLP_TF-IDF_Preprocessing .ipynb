{
 "cells": [
  {
   "cell_type": "code",
   "execution_count": 1,
   "id": "d0148814-79e8-40cf-87cc-1fc89a5821d9",
   "metadata": {},
   "outputs": [],
   "source": [
    "import pandas as pd\n",
    "import numpy as np\n",
    "from nltk.corpus import stopwords\n",
    "from sklearn.metrics.pairwise import linear_kernel\n",
    "from sklearn.feature_extraction.text import CountVectorizer\n",
    "from sklearn.feature_extraction.text import TfidfVectorizer\n",
    "from sklearn.decomposition import LatentDirichletAllocation\n",
    "import re\n",
    "import random\n",
    "pd.options.display.max_columns = 30\n",
    "import matplotlib.pyplot as plt\n",
    "import warnings\n",
    "warnings.filterwarnings(\"ignore\")"
   ]
  },
  {
   "cell_type": "markdown",
   "id": "0529721c-7c39-4d0e-871a-7fc08bfad4c1",
   "metadata": {},
   "source": [
    "# load data set
    https://www.kaggle.com/datasets/harmanpreet93/hotelreviews"
   
   ]
  },
  {
   "cell_type": "code",
   "execution_count": 2,
   "id": "e807b1ca-8b2d-4c6d-82d4-b755f66cf23a",
   "metadata": {},
   "outputs": [
    {
     "data": {
      "text/html": [
       "<div>\n",
       "<style scoped>\n",
       "    .dataframe tbody tr th:only-of-type {\n",
       "        vertical-align: middle;\n",
       "    }\n",
       "\n",
       "    .dataframe tbody tr th {\n",
       "        vertical-align: top;\n",
       "    }\n",
       "\n",
       "    .dataframe thead th {\n",
       "        text-align: right;\n",
       "    }\n",
       "</style>\n",
       "<table border=\"1\" class=\"dataframe\">\n",
       "  <thead>\n",
       "    <tr style=\"text-align: right;\">\n",
       "      <th></th>\n",
       "      <th>User_ID</th>\n",
       "      <th>Description</th>\n",
       "      <th>Browser_Used</th>\n",
       "      <th>Device_Used</th>\n",
       "      <th>Is_Response</th>\n",
       "    </tr>\n",
       "  </thead>\n",
       "  <tbody>\n",
       "    <tr>\n",
       "      <th>0</th>\n",
       "      <td>id10326</td>\n",
       "      <td>The room was kind of clean but had a VERY stro...</td>\n",
       "      <td>Edge</td>\n",
       "      <td>Mobile</td>\n",
       "      <td>not happy</td>\n",
       "    </tr>\n",
       "    <tr>\n",
       "      <th>1</th>\n",
       "      <td>id10327</td>\n",
       "      <td>I stayed at the Crown Plaza April -- - April -...</td>\n",
       "      <td>Internet Explorer</td>\n",
       "      <td>Mobile</td>\n",
       "      <td>not happy</td>\n",
       "    </tr>\n",
       "    <tr>\n",
       "      <th>2</th>\n",
       "      <td>id10328</td>\n",
       "      <td>I booked this hotel through Hotwire at the low...</td>\n",
       "      <td>Mozilla</td>\n",
       "      <td>Tablet</td>\n",
       "      <td>not happy</td>\n",
       "    </tr>\n",
       "    <tr>\n",
       "      <th>3</th>\n",
       "      <td>id10329</td>\n",
       "      <td>Stayed here with husband and sons on the way t...</td>\n",
       "      <td>InternetExplorer</td>\n",
       "      <td>Desktop</td>\n",
       "      <td>happy</td>\n",
       "    </tr>\n",
       "    <tr>\n",
       "      <th>4</th>\n",
       "      <td>id10330</td>\n",
       "      <td>My girlfriends and I stayed here to celebrate ...</td>\n",
       "      <td>Edge</td>\n",
       "      <td>Tablet</td>\n",
       "      <td>not happy</td>\n",
       "    </tr>\n",
       "    <tr>\n",
       "      <th>...</th>\n",
       "      <td>...</td>\n",
       "      <td>...</td>\n",
       "      <td>...</td>\n",
       "      <td>...</td>\n",
       "      <td>...</td>\n",
       "    </tr>\n",
       "    <tr>\n",
       "      <th>38927</th>\n",
       "      <td>id49253</td>\n",
       "      <td>We arrived late at night and walked in to a ch...</td>\n",
       "      <td>Edge</td>\n",
       "      <td>Desktop</td>\n",
       "      <td>happy</td>\n",
       "    </tr>\n",
       "    <tr>\n",
       "      <th>38928</th>\n",
       "      <td>id49254</td>\n",
       "      <td>The only positive impression is location and p...</td>\n",
       "      <td>InternetExplorer</td>\n",
       "      <td>Mobile</td>\n",
       "      <td>not happy</td>\n",
       "    </tr>\n",
       "    <tr>\n",
       "      <th>38929</th>\n",
       "      <td>id49255</td>\n",
       "      <td>Traveling with friends for shopping and a show...</td>\n",
       "      <td>Firefox</td>\n",
       "      <td>Mobile</td>\n",
       "      <td>not happy</td>\n",
       "    </tr>\n",
       "    <tr>\n",
       "      <th>38930</th>\n",
       "      <td>id49256</td>\n",
       "      <td>The experience was just ok. We paid extra for ...</td>\n",
       "      <td>Chrome</td>\n",
       "      <td>Desktop</td>\n",
       "      <td>not happy</td>\n",
       "    </tr>\n",
       "    <tr>\n",
       "      <th>38931</th>\n",
       "      <td>id49257</td>\n",
       "      <td>The Westin is a wonderfully restored grande da...</td>\n",
       "      <td>Mozilla</td>\n",
       "      <td>Desktop</td>\n",
       "      <td>happy</td>\n",
       "    </tr>\n",
       "  </tbody>\n",
       "</table>\n",
       "<p>38932 rows × 5 columns</p>\n",
       "</div>"
      ],
      "text/plain": [
       "       User_ID                                        Description  \\\n",
       "0      id10326  The room was kind of clean but had a VERY stro...   \n",
       "1      id10327  I stayed at the Crown Plaza April -- - April -...   \n",
       "2      id10328  I booked this hotel through Hotwire at the low...   \n",
       "3      id10329  Stayed here with husband and sons on the way t...   \n",
       "4      id10330  My girlfriends and I stayed here to celebrate ...   \n",
       "...        ...                                                ...   \n",
       "38927  id49253  We arrived late at night and walked in to a ch...   \n",
       "38928  id49254  The only positive impression is location and p...   \n",
       "38929  id49255  Traveling with friends for shopping and a show...   \n",
       "38930  id49256  The experience was just ok. We paid extra for ...   \n",
       "38931  id49257  The Westin is a wonderfully restored grande da...   \n",
       "\n",
       "            Browser_Used Device_Used Is_Response  \n",
       "0                   Edge      Mobile   not happy  \n",
       "1      Internet Explorer      Mobile   not happy  \n",
       "2                Mozilla      Tablet   not happy  \n",
       "3       InternetExplorer     Desktop       happy  \n",
       "4                   Edge      Tablet   not happy  \n",
       "...                  ...         ...         ...  \n",
       "38927               Edge     Desktop       happy  \n",
       "38928   InternetExplorer      Mobile   not happy  \n",
       "38929            Firefox      Mobile   not happy  \n",
       "38930             Chrome     Desktop   not happy  \n",
       "38931            Mozilla     Desktop       happy  \n",
       "\n",
       "[38932 rows x 5 columns]"
      ]
     },
     "execution_count": 2,
     "metadata": {},
     "output_type": "execute_result"
    }
   ],
   "source": [
    "df = pd.read_csv('hotel-reviews.csv')\n",
    "df"
   ]
  },
  {
   "cell_type": "code",
   "execution_count": 3,
   "id": "eac77860-5612-4e21-874c-e9fd4155080a",
   "metadata": {},
   "outputs": [
    {
     "data": {
      "text/html": [
       "<div>\n",
       "<style scoped>\n",
       "    .dataframe tbody tr th:only-of-type {\n",
       "        vertical-align: middle;\n",
       "    }\n",
       "\n",
       "    .dataframe tbody tr th {\n",
       "        vertical-align: top;\n",
       "    }\n",
       "\n",
       "    .dataframe thead th {\n",
       "        text-align: right;\n",
       "    }\n",
       "</style>\n",
       "<table border=\"1\" class=\"dataframe\">\n",
       "  <thead>\n",
       "    <tr style=\"text-align: right;\">\n",
       "      <th></th>\n",
       "      <th>User_ID</th>\n",
       "      <th>Description</th>\n",
       "      <th>Browser_Used</th>\n",
       "      <th>Device_Used</th>\n",
       "      <th>Is_Response</th>\n",
       "    </tr>\n",
       "  </thead>\n",
       "  <tbody>\n",
       "    <tr>\n",
       "      <th>0</th>\n",
       "      <td>id43457</td>\n",
       "      <td>Great location, nice frontage, courtyard, plea...</td>\n",
       "      <td>Edge</td>\n",
       "      <td>Tablet</td>\n",
       "      <td>not happy</td>\n",
       "    </tr>\n",
       "    <tr>\n",
       "      <th>1</th>\n",
       "      <td>id37580</td>\n",
       "      <td>I very much enjoyed my --night stay at the Dun...</td>\n",
       "      <td>Chrome</td>\n",
       "      <td>Mobile</td>\n",
       "      <td>happy</td>\n",
       "    </tr>\n",
       "    <tr>\n",
       "      <th>2</th>\n",
       "      <td>id18749</td>\n",
       "      <td>This hotel is recommended for young couples lo...</td>\n",
       "      <td>InternetExplorer</td>\n",
       "      <td>Tablet</td>\n",
       "      <td>happy</td>\n",
       "    </tr>\n",
       "    <tr>\n",
       "      <th>3</th>\n",
       "      <td>id14577</td>\n",
       "      <td>The lobby and check in area of the hotel is ni...</td>\n",
       "      <td>Edge</td>\n",
       "      <td>Tablet</td>\n",
       "      <td>not happy</td>\n",
       "    </tr>\n",
       "    <tr>\n",
       "      <th>4</th>\n",
       "      <td>id45332</td>\n",
       "      <td>Stayed at the Courtyard FIsherman's Wharf with...</td>\n",
       "      <td>Mozilla</td>\n",
       "      <td>Mobile</td>\n",
       "      <td>not happy</td>\n",
       "    </tr>\n",
       "    <tr>\n",
       "      <th>...</th>\n",
       "      <td>...</td>\n",
       "      <td>...</td>\n",
       "      <td>...</td>\n",
       "      <td>...</td>\n",
       "      <td>...</td>\n",
       "    </tr>\n",
       "    <tr>\n",
       "      <th>19995</th>\n",
       "      <td>id34478</td>\n",
       "      <td>This hotel was very convenient to the airport....</td>\n",
       "      <td>Google Chrome</td>\n",
       "      <td>Mobile</td>\n",
       "      <td>happy</td>\n",
       "    </tr>\n",
       "    <tr>\n",
       "      <th>19996</th>\n",
       "      <td>id32027</td>\n",
       "      <td>Well what can I say after reading some of the ...</td>\n",
       "      <td>Google Chrome</td>\n",
       "      <td>Mobile</td>\n",
       "      <td>happy</td>\n",
       "    </tr>\n",
       "    <tr>\n",
       "      <th>19997</th>\n",
       "      <td>id46904</td>\n",
       "      <td>Arrived at midnight--first room had half of th...</td>\n",
       "      <td>Firefox</td>\n",
       "      <td>Mobile</td>\n",
       "      <td>not happy</td>\n",
       "    </tr>\n",
       "    <tr>\n",
       "      <th>19998</th>\n",
       "      <td>id48616</td>\n",
       "      <td>Beautiful hotel but what impressed me the most...</td>\n",
       "      <td>Safari</td>\n",
       "      <td>Mobile</td>\n",
       "      <td>happy</td>\n",
       "    </tr>\n",
       "    <tr>\n",
       "      <th>19999</th>\n",
       "      <td>id47230</td>\n",
       "      <td>Boarded the train at Elmhurst (a local suburb)...</td>\n",
       "      <td>IE</td>\n",
       "      <td>Desktop</td>\n",
       "      <td>happy</td>\n",
       "    </tr>\n",
       "  </tbody>\n",
       "</table>\n",
       "<p>20000 rows × 5 columns</p>\n",
       "</div>"
      ],
      "text/plain": [
       "       User_ID                                        Description  \\\n",
       "0      id43457  Great location, nice frontage, courtyard, plea...   \n",
       "1      id37580  I very much enjoyed my --night stay at the Dun...   \n",
       "2      id18749  This hotel is recommended for young couples lo...   \n",
       "3      id14577  The lobby and check in area of the hotel is ni...   \n",
       "4      id45332  Stayed at the Courtyard FIsherman's Wharf with...   \n",
       "...        ...                                                ...   \n",
       "19995  id34478  This hotel was very convenient to the airport....   \n",
       "19996  id32027  Well what can I say after reading some of the ...   \n",
       "19997  id46904  Arrived at midnight--first room had half of th...   \n",
       "19998  id48616  Beautiful hotel but what impressed me the most...   \n",
       "19999  id47230  Boarded the train at Elmhurst (a local suburb)...   \n",
       "\n",
       "           Browser_Used Device_Used Is_Response  \n",
       "0                  Edge      Tablet   not happy  \n",
       "1                Chrome      Mobile       happy  \n",
       "2      InternetExplorer      Tablet       happy  \n",
       "3                  Edge      Tablet   not happy  \n",
       "4               Mozilla      Mobile   not happy  \n",
       "...                 ...         ...         ...  \n",
       "19995     Google Chrome      Mobile       happy  \n",
       "19996     Google Chrome      Mobile       happy  \n",
       "19997           Firefox      Mobile   not happy  \n",
       "19998            Safari      Mobile       happy  \n",
       "19999                IE     Desktop       happy  \n",
       "\n",
       "[20000 rows x 5 columns]"
      ]
     },
     "execution_count": 3,
     "metadata": {},
     "output_type": "execute_result"
    }
   ],
   "source": [
    "df = df.sample(n = 20000 , random_state=200)\n",
    "df.reset_index(drop=True, inplace=True)\n",
    "df"
   ]
  },
  {
   "cell_type": "markdown",
   "id": "ce2cc3c5-667f-4ad0-bb73-18ac32d96a4b",
   "metadata": {},
   "source": [
    "# EDA"
   ]
  },
  {
   "cell_type": "markdown",
   "id": "cd927089-050a-4af8-b09b-6295587a55ac",
   "metadata": {
    "tags": []
   },
   "source": [
    "## The Nth hotel Comments"
   ]
  },
  {
   "cell_type": "code",
   "execution_count": 4,
   "id": "8b67520d-441b-4bd9-ac83-a65e47b13620",
   "metadata": {},
   "outputs": [],
   "source": [
    "def print_description(index):\n",
    "    example = df[df.index == index][['Description', 'User_ID']].values[0]\n",
    "    if len(example) > 0:\n",
    "        print(example[0])\n",
    "        print('User_ID:', example[1])"
   ]
  },
  {
   "cell_type": "code",
   "execution_count": 5,
   "id": "39d2d20a-1b14-4399-8575-9a5164978017",
   "metadata": {},
   "outputs": [
    {
     "name": "stdout",
     "output_type": "stream",
     "text": [
      "Description of 2nd hotel:\n",
      "This hotel is recommended for young couples looking for an energetic hotel with club scene and trendy bar. The hotel is contemporary with flare. Beware the room bathrooms do not have doors for privacy, only shutters that do not lock, so if you are a private person request the handicap room. Location is awesome. Walking distance to the Navy Pier through an underground walkway (about - blocks distance). Chicago city life is awesome and a great place to have a romantic getaway! Hotel is upscale, but rooms are slightly older. View is awesome to the lake. Food is way too expensive ,but you can eat breakfast at Egg cafe just - blocks to the right. Beware of parking fees. Get a deal with parking included.\n",
      "User_ID: id18749\n"
     ]
    }
   ],
   "source": [
    "print('Description of 2nd hotel:')\n",
    "print_description(2)"
   ]
  },
  {
   "cell_type": "code",
   "execution_count": 6,
   "id": "44e94866-2be9-4541-a692-c797a06de9cd",
   "metadata": {},
   "outputs": [
    {
     "name": "stdout",
     "output_type": "stream",
     "text": [
      "Description of 100th hotel:\n",
      "Excellent choice for frequent travelers. The staff goes out of their way to say hello and proactively ask if I need anything - particularly Yonis at the front desk.\n",
      "The hotel has a superior fitness facility with up-to-date elliptical trainers, stationary bikes, recumbent bikes, treadmills (all cardio equipment has flat screen TV's with earpieces), dumbells, and a nice selection of stand-alone weight training machines. This facility is much larger than the typical hotel fitness center, with excellent overall layout, reading materials, stretching area, and towels.\n",
      "User_ID: id20421\n"
     ]
    }
   ],
   "source": [
    "print('Description of 100th hotel:')\n",
    "print_description(100)"
   ]
  },
  {
   "cell_type": "markdown",
   "id": "dc19b29f-fae4-44cb-a410-1e5b0d53f28e",
   "metadata": {},
   "source": [
    "## Vocabulary frequency before removing stop words"
   ]
  },
  {
   "cell_type": "code",
   "execution_count": 7,
   "id": "eb552a56-9617-4c80-beac-450524814f70",
   "metadata": {},
   "outputs": [
    {
     "data": {
      "image/png": "[encoded data removed]",
      "text/plain": [
       "<Figure size 720x432 with 1 Axes>"
      ]
     },
     "metadata": {
      "needs_background": "light"
     },
     "output_type": "display_data"
    }
   ],
   "source": [
    "def get_top_n_words(corpus, n=1, k=None):\n",
    "    vec = CountVectorizer().fit(corpus)\n",
    "    bag_of_words = vec.transform(corpus)\n",
    "\n",
    "    sum_words = bag_of_words.sum(axis=0)\n",
    "    words_freq = [(word, sum_words[0, idx]) for word, idx in vec.vocabulary_.items()]\n",
    "    \n",
    "    # rank the vocabulary frequency\n",
    "    words_freq =sorted(words_freq, key = lambda x: x[1], reverse=True)\n",
    "    return words_freq[:k]\n",
    "\n",
    "common_words = get_top_n_words(df['Description'], 3, 20)\n",
    "df1 = pd.DataFrame(common_words, columns = ['Description' , 'count'])\n",
    "\n",
    "plt.figure(figsize=(10, 6))\n",
    "\n",
    "SMALL_SIZE = 15\n",
    "MEDIUM_SIZE = 12\n",
    "BIGGER_SIZE = 25\n",
    "plt.rc('font', size=SMALL_SIZE)          # controls default text sizes\n",
    "plt.rc('axes', titlesize=SMALL_SIZE)     # fontsize of the axes title\n",
    "plt.rc('axes', labelsize=MEDIUM_SIZE)    # fontsize of the x and y labels\n",
    "plt.rc('xtick', labelsize=SMALL_SIZE)    # fontsize of the tick labels\n",
    "plt.rc('ytick', labelsize=SMALL_SIZE)    # fontsize of the tick labels\n",
    "plt.rc('legend', fontsize=SMALL_SIZE)    # legend fontsize\n",
    "plt.rc('figure', titlesize=BIGGER_SIZE)  # fontsize of the figure title\n",
    "\n",
    "df1.groupby('Description').sum()['count'].sort_values().plot(kind='barh', title='Before removing stop words, the Top 20 frequent words from customer comments about hotel:',fontsize = 12)\n",
    "plt.show()"
   ]
  },
  {
   "cell_type": "markdown",
   "id": "c2e71260-4dac-4721-814f-3ce97abc3d2a",
   "metadata": {},
   "source": [
    "## Vocabulary frequency after removing stop words"
   ]
  },
  {
   "cell_type": "code",
   "execution_count": 8,
   "id": "7e800d43-87d9-43d5-a058-9826af3a6a86",
   "metadata": {},
   "outputs": [
    {
     "data": {
      "image/png": "[encoded data removed]",
      "text/plain": [
       "<Figure size 720x432 with 1 Axes>"
      ]
     },
     "metadata": {
      "needs_background": "light"
     },
     "output_type": "display_data"
    }
   ],
   "source": [
    "def get_top_n_words(corpus, n=1, k=None):\n",
    "    # using the ngram word frequency matirx\n",
    "    vec = CountVectorizer(ngram_range=(n, n), stop_words='english').fit(corpus)\n",
    "    bag_of_words = vec.transform(corpus)\n",
    "\n",
    "    sum_words = bag_of_words.sum(axis=0)\n",
    "    words_freq = [(word, sum_words[0, idx]) for word, idx in vec.vocabulary_.items()]\n",
    "    \n",
    "    # rank the vocabulary frequency\n",
    "    words_freq =sorted(words_freq, key = lambda x: x[1], reverse=True)\n",
    "    return words_freq[:k]\n",
    "\n",
    "common_words = get_top_n_words(df['Description'], 3, 20)\n",
    "#print(common_words)\n",
    "df1 = pd.DataFrame(common_words, columns = ['Description' , 'count'])\n",
    "\n",
    "plt.figure(figsize=(10, 6))\n",
    "\n",
    "SMALL_SIZE = 15\n",
    "MEDIUM_SIZE = 12\n",
    "BIGGER_SIZE = 25\n",
    "plt.rc('font', size=SMALL_SIZE)          # controls default text sizes\n",
    "plt.rc('axes', titlesize=SMALL_SIZE)     # fontsize of the axes title\n",
    "plt.rc('axes', labelsize=MEDIUM_SIZE)    # fontsize of the x and y labels\n",
    "plt.rc('xtick', labelsize=SMALL_SIZE)    # fontsize of the tick labels\n",
    "plt.rc('ytick', labelsize=SMALL_SIZE)    # fontsize of the tick labels\n",
    "plt.rc('legend', fontsize=SMALL_SIZE)    # legend fontsize\n",
    "plt.rc('figure', titlesize=BIGGER_SIZE)  # fontsize of the figure title\n",
    "\n",
    "df1.groupby('Description').sum()['count'].sort_values().plot(kind='barh', title='After removing stop words, the Top 20 frequent words from customer comments about hotel:', fontsize = 12)\n",
    "plt.show()"
   ]
  },
  {
   "cell_type": "markdown",
   "id": "fd987557-6f7a-41b1-b244-2fa07a646112",
   "metadata": {},
   "source": [
    "## Data cleaning"
   ]
  },
  {
   "cell_type": "code",
   "execution_count": 9,
   "id": "6ebc239d-1743-4792-b77d-2c01a3146907",
   "metadata": {},
   "outputs": [
    {
     "data": {
      "text/plain": [
       "0        great location nice frontage courtyard pleasan...\n",
       "1        much enjoyed night stay dunhill staff extremel...\n",
       "2        hotel recommended young couples looking energe...\n",
       "3        lobby check area hotel nice little bit typical...\n",
       "4        stayed courtyard fishermans wharf family night...\n",
       "                               ...                        \n",
       "19995    hotel convenient airport shuttle hotel airport...\n",
       "19996    well say reading americans reviews really worr...\n",
       "19997    arrived midnightfirst room half window curtain...\n",
       "19998    beautiful hotel impressed helpfulness staff mi...\n",
       "19999    boarded train elmhurst local suburb crazy nigh...\n",
       "Name: desc_clean, Length: 20000, dtype: object"
      ]
     },
     "execution_count": 9,
     "metadata": {},
     "output_type": "execute_result"
    }
   ],
   "source": [
    "REPLACE_BY_SPACE_RE = re.compile('[/(){}\\[\\]\\|@,;]')\n",
    "BAD_SYMBOLS_RE = re.compile('[^0-9a-z #+_]')\n",
    "\n",
    "STOPWORDS = set(stopwords.words('english'))\n",
    "\n",
    "def clean_text(text):\n",
    "    text = text.lower()\n",
    "    \n",
    "    text = REPLACE_BY_SPACE_RE.sub(' ', text)\n",
    "\n",
    "    text = BAD_SYMBOLS_RE.sub('', text)\n",
    "    # remove stopwords\n",
    "    text = ' '.join(word for word in text.split() if word not in STOPWORDS) \n",
    "    return text\n",
    "\n",
    "df['desc_clean'] = df['Description'].apply(clean_text)\n",
    "df['desc_clean']"
   ]
  },
  {
   "cell_type": "markdown",
   "id": "abe7fcc7-91c8-497f-90fb-fd73521de60f",
   "metadata": {},
   "source": [
    "# Model - Cosine similarity"
   ]
  },
  {
   "cell_type": "markdown",
   "id": "af321304-e713-462f-9dca-506aee040a3f",
   "metadata": {},
   "source": [
    "* extract vocabulary feature using TF-IDF"
   ]
  },
  {
   "cell_type": "code",
   "execution_count": 10,
   "id": "f6032776-2549-4dc6-a087-395ef650c3a7",
   "metadata": {},
   "outputs": [
    {
     "name": "stdout",
     "output_type": "stream",
     "text": [
      "TFIDF feature names:\n",
      "1264\n"
     ]
    }
   ],
   "source": [
    "df.set_index('User_ID', inplace = True)\n",
    "tf = TfidfVectorizer(analyzer='word', ngram_range=(1, 3), min_df=0.01, stop_words='english')\n",
    "\n",
    "tfidf_matrix = tf.fit_transform(df['desc_clean'])\n",
    "print('TFIDF feature names:')\n",
    "print(len(tf.get_feature_names()))"
   ]
  },
  {
   "cell_type": "markdown",
   "id": "ca24cf8a-3f52-477b-85cb-700425de9ee7",
   "metadata": {},
   "source": [
    "* calculate the cosine similarities using linear kernel"
   ]
  },
  {
   "cell_type": "code",
   "execution_count": 11,
   "id": "bc5687d7-cfcb-4495-8db2-52126a9d71da",
   "metadata": {},
   "outputs": [],
   "source": [
    "cosine_similarities = linear_kernel(tfidf_matrix, tfidf_matrix)\n",
    "indices = pd.Series(df.index)"
   ]
  },
  {
   "cell_type": "markdown",
   "id": "59640f2d-35aa-4a6b-bbf1-730eabbe8514",
   "metadata": {},
   "source": [
    "# Top 10 hotel recommendation"
   ]
  },
  {
   "cell_type": "markdown",
   "id": "f689936d-d49d-4b71-828a-0a961c215aa5",
   "metadata": {},
   "source": [
    "* Recommend the top 10 hotel based on hotel name and cosine similarities"
   ]
  },
  {
   "cell_type": "code",
   "execution_count": 12,
   "id": "1c945640-80ec-47cc-9479-5bfddb130e91",
   "metadata": {},
   "outputs": [],
   "source": [
    "def recommendations(name, cosine_similarities = cosine_similarities):\n",
    "    recommended_hotels = []\n",
    "    idx = indices[indices == name].index[0]\n",
    "    print('idx=', idx)\n",
    "    \n",
    "    # rank the similarities\n",
    "    score_series = pd.Series(cosine_similarities[idx]).sort_values(ascending = False)\n",
    "    \n",
    "    # top 10 hotels\n",
    "    top_10_indexes = list(score_series.iloc[1:11].index)\n",
    "    for i in top_10_indexes:\n",
    "        recommended_hotels.append(list(df.index)[i])\n",
    "    return recommended_hotels"
   ]
  },
  {
   "cell_type": "code",
   "execution_count": 13,
   "id": "97deba63-c9dd-4ba8-9e06-f7046c7f433d",
   "metadata": {},
   "outputs": [
    {
     "name": "stdout",
     "output_type": "stream",
     "text": [
      "idx= 0\n",
      "['id18434', 'id14436', 'id33258', 'id47699', 'id36144', 'id31941', 'id14392', 'id22041', 'id32763', 'id10464']\n"
     ]
    }
   ],
   "source": [
    "print(recommendations('id43457'))"
   ]
  },
  {
   "cell_type": "code",
   "execution_count": 14,
   "id": "f24c5d0a-5257-47af-8474-8b8c6f291238",
   "metadata": {},
   "outputs": [
    {
     "name": "stdout",
     "output_type": "stream",
     "text": [
      "idx= 12269\n",
      "['id39747', 'id46522', 'id23049', 'id18057', 'id12068', 'id12371', 'id32259', 'id21819', 'id21062', 'id42944']\n"
     ]
    }
   ],
   "source": [
    "print(recommendations('id20325'))"
   ]
  }
 ],
 "metadata": {
  "kernelspec": {
   "display_name": "Python 3 (ipykernel)",
   "language": "python",
   "name": "python3"
  },
  "language_info": {
   "codemirror_mode": {
    "name": "ipython",
    "version": 3
   },
   "file_extension": ".py",
   "mimetype": "text/x-python",
   "name": "python",
   "nbconvert_exporter": "python",
   "pygments_lexer": "ipython3",
   "version": "3.7.9"
  },
  "toc-autonumbering": true
 },
 "nbformat": 4,
 "nbformat_minor": 5
}
